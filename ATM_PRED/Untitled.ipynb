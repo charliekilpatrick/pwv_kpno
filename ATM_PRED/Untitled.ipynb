{
 "cells": [
  {
   "cell_type": "code",
   "execution_count": 71,
   "metadata": {
    "collapsed": false
   },
   "outputs": [
    {
     "data": {
      "text/plain": [
       "array([('2012-08-09T20:15', -9.9), ('2012-08-09T20:45', -9.9),\n",
       "       ('2012-08-09T21:15', -9.9), ..., ('2012-12-31T22:45', 6.4),\n",
       "       ('2012-12-31T23:15', 6.4), ('2012-12-31T23:45', 6.5)], \n",
       "      dtype=[('date', '<U16'), ('pwv_AZAM', '<f8')])"
      ]
     },
     "execution_count": 71,
     "metadata": {},
     "output_type": "execute_result"
    }
   ],
   "source": [
    "from numpy import genfromtxt, unique, str_, ma\n",
    "from astropy.table import Table, join\n",
    "\n",
    "\n",
    "data_table = Table([[0]], names=['date'], dtype=[(str_, 16)])\n",
    "\n",
    "fil = 'suomi_data/AZAMnrt_2012.plot'\n",
    "data = genfromtxt(fil, usecols=(1, 2),\n",
    "                  names=('date', 'pwv_' + fil[-17:-13]),\n",
    "                  dtype=[(str_, 16), float])\n",
    "\n",
    "# Keep only unique, non-negative measurements\n",
    "unique_data = unique(data)\n",
    "mask = unique_data['pwv_' + fil[-17:-13]] < 0\n",
    "\n",
    "np.array(unique_data)\n",
    "#data_table = join(data_table, Table(masked_data),\n",
    "#                  keys=['date'], join_type='outer')"
   ]
  },
  {
   "cell_type": "code",
   "execution_count": 54,
   "metadata": {
    "collapsed": false
   },
   "outputs": [
    {
     "data": {
      "text/plain": [
       "array([[ True,  True,  True,  True],\n",
       "       [ True,  True,  True,  True],\n",
       "       [ True,  True,  True,  True]], dtype=bool)"
      ]
     },
     "execution_count": 54,
     "metadata": {},
     "output_type": "execute_result"
    }
   ],
   "source": [
    "np.array([[1,2,3,4], [5,6,7,8], [9,10,11,12]])>0\n"
   ]
  },
  {
   "cell_type": "code",
   "execution_count": null,
   "metadata": {
    "collapsed": true
   },
   "outputs": [],
   "source": []
  }
 ],
 "metadata": {
  "anaconda-cloud": {},
  "kernelspec": {
   "display_name": "Python 3",
   "language": "python",
   "name": "python3"
  },
  "language_info": {
   "codemirror_mode": {
    "name": "ipython",
    "version": 3
   },
   "file_extension": ".py",
   "mimetype": "text/x-python",
   "name": "python",
   "nbconvert_exporter": "python",
   "pygments_lexer": "ipython3",
   "version": "3.6.0"
  }
 },
 "nbformat": 4,
 "nbformat_minor": 0
}
