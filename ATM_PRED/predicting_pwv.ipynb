{
 "cells": [
  {
   "cell_type": "code",
   "execution_count": 1,
   "metadata": {
    "collapsed": false
   },
   "outputs": [],
   "source": [
    "from os.path import basename as _basename\n",
    "from astropy.time import Time \n",
    "import numpy as np\n",
    "import matplotlib.pyplot as plt\n",
    "\n",
    "%matplotlib inline"
   ]
  },
  {
   "cell_type": "code",
   "execution_count": 2,
   "metadata": {
    "collapsed": true
   },
   "outputs": [],
   "source": [
    "##gather data\n",
    "#checking multiple dates\n",
    "file_sa48_2014_new = \"suomi_data/SA48nrt_2014_new.plot\"\n",
    "file_sa46_2014_new = \"suomi_data/SA46nrt_2014_new.plot\"\n",
    "file_p014_2014_new = \"suomi_data/P014nrt_2014_new.plot\"\n",
    "#2014\n",
    "file_sa48_2014 = \"suomi_data/SA48nrt_2014.plot\"\n",
    "file_sa46_2014 = \"suomi_data/SA46nrt_2014.plot\"\n",
    "file_p014_2014 = \"suomi_data/P014nrt_2014.plot\"\n",
    "#2015\n",
    "file_kitt_2015 = \"suomi_data/KITTnrt_2015.plot\"\n",
    "file_sa48_2015 = \"suomi_data/SA48nrt_2015.plot\"\n",
    "file_sa46_2015 = \"suomi_data/SA46nrt_2015.plot\"\n",
    "file_p014_2015 = \"suomi_data/P014nrt_2015.plot\"\n",
    "file_azam_2015 = \"suomi_data/AZAMnrt_2015.plot\"\n",
    "#2016\n",
    "#file_kitt_2016 = \"KITTnrt_2016.plot.txt\"\n",
    "file_sa46_2016 = \"suomi_data/SA46nrt_2016.plot\"\n",
    "file_p014_2016 = \"suomi_data/P014nrt_2016.plot\""
   ]
  },
  {
   "cell_type": "code",
   "execution_count": 3,
   "metadata": {
    "collapsed": false
   },
   "outputs": [],
   "source": [
    "#group data by year\n",
    "all_data_2014_new = [file_sa48_2014_new, file_sa46_2014_new, file_p014_2014_new]\n",
    "all_data_2014 = [file_sa48_2014, file_sa46_2014, file_p014_2014]\n",
    "all_data_2015 = [file_kitt_2015, file_sa48_2015, file_sa46_2015, file_p014_2015, file_azam_2015]\n",
    "#all_data_2016= (file_kitt_2016, file_sa46_2016, file_p014_2016)\n",
    "all_data_2016= [file_sa46_2016, file_p014_2016]\n"
   ]
  },
  {
   "cell_type": "code",
   "execution_count": 4,
   "metadata": {
    "collapsed": false
   },
   "outputs": [],
   "source": [
    "def get_data(path):\n",
    "    \"\"\"Returns SuomiNet data from a file path as a numpy array\n",
    "\n",
    "    Expects data files from http://www.suominet.ucar.edu/data.html\n",
    "    under the \"Specific station - All year hourly\" row. The returned\n",
    "    array has column names 'date', 'pwv', 'pres', 'temp', and 'hum'.\n",
    "    \n",
    "    Args:\n",
    "        path (str): File path to be read\n",
    "\n",
    "    Returns:\n",
    "        data (numpy.ndarray): Numpy array with data from file\n",
    "    \"\"\"\n",
    "    \n",
    "    data = np.genfromtxt(path, usecols=(1,2,7,8,9),\n",
    "                         names=('date', 'pwv', 'pres', 'temp', 'hum'),\n",
    "                         dtype=((np.str_, 16), float, float, float, float))\n",
    "\n",
    "    data = np.unique(data) # Remove duplicate entries\n",
    "    return data\n"
   ]
  },
  {
   "cell_type": "code",
   "execution_count": 5,
   "metadata": {
    "collapsed": true
   },
   "outputs": [],
   "source": [
    "def get_date_list(*data_arrays):\n",
    "    \"\"\"Construct a sorted list of unique dates from a collection of arrays\n",
    "\n",
    "    Given multiple numpy arrays, create a sorted list of the unique dates found\n",
    "    in all of the arrays. Expects arrays returned by 'get_data'.\n",
    "    \n",
    "    Args:\n",
    "        data_arrays (numpy.ndarray): Numpy array returned by 'get_data'\n",
    "    \n",
    "    Returns:\n",
    "        mjd (list): Sorted list of unique datetimes expressed in MJD\n",
    "    \"\"\"\n",
    "\n",
    "    datetimes = np.concatenate([array['date'] for array in data_arrays])\n",
    "    # [array['date'] for array in data_arrays] is a list of arrays each having\n",
    "    # only the datetime info; np.concatenate combines these into a single array\n",
    "    \n",
    "    unique_datetimes = np.unique(datetimes)\n",
    "    mjd = sorted([Time(t, format='isot').mjd for t in unique_datetimes])\n",
    "    \n",
    "    return mjd\n"
   ]
  },
  {
   "cell_type": "code",
   "execution_count": 6,
   "metadata": {
    "collapsed": true
   },
   "outputs": [],
   "source": [
    "def pad_data(dates, data):\n",
    "    \"\"\"Pad and mask an array of PWV values to match a list of dates\n",
    "\n",
    "    Given an array of PWV measurments and their corresponding datetimes, pad\n",
    "    the array so that there is an entry for every datetime in a given list.\n",
    "    Expects the first argument to be a return from 'get_dates' and the second\n",
    "    second argument to be from 'get_data'.\n",
    "    \n",
    "    Args:\n",
    "        dates (list): A list of unique datetimes returned by 'get_dates'\n",
    "        data  (numpy.ndarray): An array returned by 'get_data'\n",
    "    \n",
    "    Returns:\n",
    "        padded_data (list): A padded data array\n",
    "    \"\"\"\n",
    "\n",
    "    mask, pwv_list = [], []\n",
    "\n",
    "    # Get the times for the current site and express them in mjd format\n",
    "    times_mjd = [Time(elt[0], format='isot').mjd for elt in data] \n",
    "\n",
    "    for date in dates:\n",
    "        if date in times_mjd:\n",
    "            time = Time(date, format='mjd').isot[:-7]\n",
    "            ind = np.where(data['date'] == time)\n",
    "            pwv = data[ind]['pwv']\n",
    "\n",
    "            if len(pwv) == 1 and pwv > 0: # Eliminate cases with multiple values\n",
    "                pwv_list.append(np.asscalar(pwv))\n",
    "                mask.append(0)\n",
    "                continue\n",
    "\n",
    "        mask.append(1)\n",
    "        pwv_list.append(1) # Filler value\n",
    "\n",
    "    padded_data = np.ma.array(data=pwv_list, mask=mask)\n",
    "    return padded_data\n"
   ]
  },
  {
   "cell_type": "code",
   "execution_count": 7,
   "metadata": {
    "collapsed": true
   },
   "outputs": [],
   "source": [
    "def model_pwv(kitt_data, other_data):\n",
    "\n",
    "    modeled_data = []\n",
    "    print('PWV Fit Functions (Check fit parameters make sense):')\n",
    "    for array in other_data:\n",
    "        ind = np.logical_and(np.invert(kitt_data.mask), np.invert(array.mask))\n",
    "        \n",
    "        kitt_pwv = np.extract(kitt_data.data, ind)\n",
    "        other_pwv = np.extract(array.data, ind)\n",
    "        plt.plot(other_pwv, kitt_pwv)\n",
    "        plt.show()\n",
    "        \n",
    "        func_parameters = np.polyfit(other_pwv, kitt_pwv, 1)\n",
    "        print(func_parameters)\n",
    "        vfunc = np.vectorize(np.poly1d(func_parameters))\n",
    "        \n",
    "        modeled_pwv = np.ma.array(data=vfunc(array.data), mask=array.mask)\n",
    "        modeled_data.append(modeled_pwv)\n",
    "        \n",
    "    return np.ma.mean(modeled_data, 0)\n",
    "\n"
   ]
  },
  {
   "cell_type": "code",
   "execution_count": 8,
   "metadata": {
    "collapsed": true
   },
   "outputs": [],
   "source": [
    "def combine_data(files):\n",
    "    \"\"\"Combine the data from a list of file paths into a single masked array\n",
    "    \"\"\"\n",
    "\n",
    "    if not isinstance(files, list) or not files:\n",
    "        raise Exception('Argument must be a non-empty list')\n",
    "\n",
    "    # Seperate the kitt data from other data\n",
    "    try:\n",
    "        # Try to find the file path pertaining to the Kitt Peak reciever\n",
    "        print('Seperating File Paths')\n",
    "        kitt_path = next(f for f in files if _basename(f)[:4].upper()=='KITT')\n",
    "        other_paths = list(set(files) - set([kitt_path]))\n",
    "        \n",
    "        print('All Files: ', files, '\\n')\n",
    "        print('Kitt Path (Check for correct path): ', kitt_path, '\\n')\n",
    "        print('Other Paths (Check for correct paths): ', other_paths, '\\n', flush=True)\n",
    "        \n",
    "        # Read data from file paths\n",
    "        print('Reading Data from file')\n",
    "        kitt_data = get_data(kitt_path)\n",
    "        other_data = [get_data(f) for f in other_paths]\n",
    "        \n",
    "        print('Kitt Data Length (should be 13728 for 2015): ', len(kitt_data))\n",
    "        print('Other Data (Check values and dtypes):\\n', other_data, '\\n', flush=True)\n",
    "        \n",
    "        # Get list of unique dates\n",
    "        dates = get_date_list(kitt_data, *other_data)\n",
    "\n",
    "        # Pad the KITT data - return it if there is no other data\n",
    "        print('Padding Kitt Data')\n",
    "        kitt_padded = pad_data(dates, kitt_data)\n",
    "        if not other_data: return kitt_padded\n",
    "        \n",
    "        print('Kitt Padded Data and Mask:')\n",
    "        print(kitt_padded.data, kitt_padded.mask, '\\n', flush=True)\n",
    "        \n",
    "        # Pad the other data and combine it into a single array\n",
    "        print('Padding Other Data')\n",
    "        other_padded = [pad_data(dates, site) for site in other_data]\n",
    "        print('Modeling PWV from other sites', flush=True)\n",
    "        other_modeled = model_pwv(kitt_padded, other_padded)\n",
    "        \n",
    "        print('\\nModeled PWV:')\n",
    "        print(other_modeled.data, other_modeled.mask, '\\n', flush=True)\n",
    "        \n",
    "        # Combine the arrays\n",
    "        print('Combining Arrays')\n",
    "        data = np.where(kitt_padded.mask, other_modeled.data, kitt_padded.data)\n",
    "        mask = np.where(kitt_padded.mask, other_modeled.mask, kitt_padded.mask)\n",
    "        combined_array = np.ma.masked_array(data=data, mask=mask)\n",
    "        \n",
    "        print('Kitt, modeled, and combined data (Check for proper replacement):')\n",
    "        print(kitt_padded.data[0:9])\n",
    "        print(other_modeled.data[0:9])\n",
    "        print(combined_array.data[0:9], '\\n')\n",
    "        \n",
    "        print(kitt_padded.data[len(kitt_padded.data)-10:])\n",
    "        print(other_modeled.data[len(other_modeled.data)-10:])\n",
    "        print(combined_array.data[len(combined_array.data)-10:])\n",
    "        \n",
    "        return dates, combined_array\n",
    "\n",
    "    except StopIteration:\n",
    "        # If there is no data file for the Kitt peak reciever\n",
    "        other_data = [get_data(f) for f in files]\n",
    "        dates = get_date_list(*other_data)\n",
    "        padded_list = [pad_data(dates, site) for site in other_data]\n",
    "        other_padded = np.ma.mean(padded_list, 0)\n",
    "        return dates, other_padded\n"
   ]
  },
  {
   "cell_type": "code",
   "execution_count": 9,
   "metadata": {
    "collapsed": false,
    "scrolled": false
   },
   "outputs": [],
   "source": [
    "from datetime import datetime\n",
    "\n",
    "def test(files):\n",
    "    start=datetime.now()\n",
    "    x = combine_data(files)[1]\n",
    "    time = datetime.now()-start\n",
    "\n",
    "    total = len(x.data)\n",
    "    m_neg_vals = len([elt for elt in  x.data if elt<0])\n",
    "    neg_vals = len([elt for i, elt in enumerate(x.data) if elt<0 and not x.mask[i]])\n",
    "    m_zeros = len([elt for elt in  x.data if elt==0])\n",
    "    zeros = len([elt for i, elt in enumerate(x.data) if elt==0 and not x.mask[i]])\n",
    "    masked = len([y for y in list(x.mask) if y])\n",
    "\n",
    "    print('{0} files combined in {1}'.format(len(all_data_2015), time))\n",
    "    print('Total PWV values: {0}'.format(total))\n",
    "    print('Negative PWV values {0} ({1}%)'.format(m_neg_vals, m_neg_vals/total*100))\n",
    "    print('Unmasked negative PWV values {0} ({1}%)'.format(neg_vals, neg_vals/total*100))\n",
    "    print('PWV values equal to zero:  {0} ({1}%)'.format(m_zeros, m_zeros/total*100))\n",
    "    print('Unmasked PWV values equal to zero:  {0} ({1}%)'.format(zeros, zeros/total*100))\n",
    "    print('Masked PWV values:  {0} ({1}%)\\n'.format(masked, masked/total*100))\n"
   ]
  },
  {
   "cell_type": "code",
   "execution_count": 10,
   "metadata": {
    "collapsed": false,
    "scrolled": false
   },
   "outputs": [
    {
     "name": "stdout",
     "output_type": "stream",
     "text": [
      "Seperating File Paths\n",
      "All Files:  ['suomi_data/KITTnrt_2015.plot', 'suomi_data/SA48nrt_2015.plot', 'suomi_data/SA46nrt_2015.plot', 'suomi_data/P014nrt_2015.plot', 'suomi_data/AZAMnrt_2015.plot'] \n",
      "\n",
      "Kitt Path (Check for correct path):  suomi_data/KITTnrt_2015.plot \n",
      "\n",
      "Other Paths (Check for correct paths):  ['suomi_data/P014nrt_2015.plot', 'suomi_data/SA46nrt_2015.plot', 'suomi_data/SA48nrt_2015.plot', 'suomi_data/AZAMnrt_2015.plot'] \n",
      "\n",
      "Reading Data from file\n",
      "Kitt Data Length (should be 13728 for 2015):  13728\n",
      "Other Data (Check values and dtypes):\n",
      " [array([('2015-01-02T04:15', 7.2, 890.6, -1.3, 88.9),\n",
      "       ('2015-01-02T04:45', 6.6, 890.6, -1.3, 87.6),\n",
      "       ('2015-01-02T08:15', 7.0, 889.8, -2.4, 86.9), ...,\n",
      "       ('2015-12-31T22:45', 4.7, 891.1, 13.2, 28.5),\n",
      "       ('2015-12-31T23:15', 4.9, 891.1, 12.5, 30.5),\n",
      "       ('2015-12-31T23:45', 5.3, 891.2, 11.7, 32.4)], \n",
      "      dtype=[('date', '<U16'), ('pwv', '<f8'), ('pres', '<f8'), ('temp', '<f8'), ('hum', '<f8')]), array([('2015-01-01T09:15', 8.1, 928.2, 1.7, 85.1),\n",
      "       ('2015-01-01T09:45', 7.7, 928.3, 1.9, 83.7),\n",
      "       ('2015-01-01T11:15', 7.5, 928.0, 1.9, 83.5), ...,\n",
      "       ('2015-12-31T22:45', 5.3, 927.4, 14.6, 27.1),\n",
      "       ('2015-12-31T23:15', 5.6, 927.5, 13.8, 28.6),\n",
      "       ('2015-12-31T23:45', 5.9, 927.6, 13.4, 29.3)], \n",
      "      dtype=[('date', '<U16'), ('pwv', '<f8'), ('pres', '<f8'), ('temp', '<f8'), ('hum', '<f8')]), array([('2015-01-01T09:15', 6.6, 931.2, 1.4, 90.9),\n",
      "       ('2015-01-01T09:45', 6.0, 931.2, 0.8, 91.8),\n",
      "       ('2015-01-01T11:15', 6.2, 931.3, -0.8, 93.6), ...,\n",
      "       ('2015-11-03T03:15', 9.1, 925.4, 17.5, 32.9),\n",
      "       ('2015-11-03T04:15', 10.0, 925.5, 16.6, 33.9),\n",
      "       ('2015-11-03T05:15', 11.3, 925.6, 19.4, 31.5)], \n",
      "      dtype=[('date', '<U16'), ('pwv', '<f8'), ('pres', '<f8'), ('temp', '<f8'), ('hum', '<f8')]), array([('2015-01-01T09:15', -9.9, -99.9, -99.9, -99.9),\n",
      "       ('2015-01-01T09:45', -9.9, -99.9, -99.9, -99.9),\n",
      "       ('2015-01-01T10:15', -9.9, -99.9, -99.9, -99.9), ...,\n",
      "       ('2015-12-31T22:45', 6.9, 904.7, 17.0, 20.2),\n",
      "       ('2015-12-31T23:15', 7.0, 904.7, 17.0, 20.2),\n",
      "       ('2015-12-31T23:45', 6.6, 904.7, 17.0, 20.2)], \n",
      "      dtype=[('date', '<U16'), ('pwv', '<f8'), ('pres', '<f8'), ('temp', '<f8'), ('hum', '<f8')])] \n",
      "\n",
      "Padding Kitt Data\n",
      "Kitt Padded Data and Mask:\n",
      "[ 1.   1.   1.  ...,  1.4  1.2  0.7] [ True  True  True ..., False False False] \n",
      "\n",
      "Padding Other Data\n",
      "Modeling PWV from other sites\n",
      "PWV Fit Functions (Check for zero intercept):\n"
     ]
    },
    {
     "data": {
      "image/png": "[encoded data removed]",
      "text/plain": [
       "<matplotlib.figure.Figure at 0x1165622e8>"
      ]
     },
     "metadata": {},
     "output_type": "display_data"
    },
    {
     "name": "stdout",
     "output_type": "stream",
     "text": [
      "[  1.00000000e+00   3.27188620e-16]\n"
     ]
    },
    {
     "data": {
      "image/png": "[encoded data removed]",
      "text/plain": [
       "<matplotlib.figure.Figure at 0x1177de7b8>"
      ]
     },
     "metadata": {},
     "output_type": "display_data"
    },
    {
     "name": "stdout",
     "output_type": "stream",
     "text": [
      "[  1.00000000e+00   1.63594310e-16]\n"
     ]
    },
    {
     "data": {
      "image/png": "[encoded data removed]",
      "text/plain": [
       "<matplotlib.figure.Figure at 0x117932978>"
      ]
     },
     "metadata": {},
     "output_type": "display_data"
    },
    {
     "name": "stdout",
     "output_type": "stream",
     "text": [
      "[  1.00000000e+00   5.45314366e-17]\n"
     ]
    },
    {
     "data": {
      "image/png": "[encoded data removed]",
      "text/plain": [
       "<matplotlib.figure.Figure at 0x10f8994a8>"
      ]
     },
     "metadata": {},
     "output_type": "display_data"
    },
    {
     "name": "stdout",
     "output_type": "stream",
     "text": [
      "[  1.00000000e+00  -5.45314366e-17]\n",
      "\n",
      "Modeled PWV:\n",
      "[ 7.35        6.85        0.         ...,  5.63333333  5.83333333\n",
      "  5.93333333] [False False  True ..., False False False] \n",
      "\n",
      "Combining Arrays\n",
      "Kitt, modeled, and combined data (Check for proper replacement):\n",
      "[ 1.  1.  1.  1.  1.  1.  1.  1.  1.]\n",
      "[ 7.35  6.85  0.    0.    6.85  7.55  7.    6.7   7.35]\n",
      "[ 7.35  6.85  0.    0.    6.85  7.55  7.    6.7   7.35] \n",
      "\n",
      "[ 0.8  1.7  1.2  0.9  1.2  1.4  1.7  1.4  1.2  0.7]\n",
      "[ 4.93333333  4.8         4.8         4.93333333  5.13333333  5.2         5.5\n",
      "  5.63333333  5.83333333  5.93333333]\n",
      "[ 0.8  1.7  1.2  0.9  1.2  1.4  1.7  1.4  1.2  0.7]\n",
      "5 files combined in 0:00:44.706855\n",
      "Total PWV values: 16978\n",
      "Negative PWV values 0 (0.0%)\n",
      "Unmasked negative PWV values 0 (0.0%)\n",
      "PWV values equal to zero:  577 (3.39851572623395%)\n",
      "Unmasked PWV values equal to zero:  0 (0.0%)\n",
      "Masked PWV values:  577 (3.39851572623395%)\n",
      "\n"
     ]
    }
   ],
   "source": [
    "test(all_data_2015)"
   ]
  },
  {
   "cell_type": "code",
   "execution_count": null,
   "metadata": {
    "collapsed": true
   },
   "outputs": [],
   "source": []
  }
 ],
 "metadata": {
  "kernelspec": {
   "display_name": "Python 3",
   "language": "python",
   "name": "python3"
  },
  "language_info": {
   "codemirror_mode": {
    "name": "ipython",
    "version": 3
   },
   "file_extension": ".py",
   "mimetype": "text/x-python",
   "name": "python",
   "nbconvert_exporter": "python",
   "pygments_lexer": "ipython3",
   "version": "3.6.0"
  }
 },
 "nbformat": 4,
 "nbformat_minor": 0
}
